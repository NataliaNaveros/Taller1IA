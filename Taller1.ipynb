{
 "cells": [
  {
   "cell_type": "code",
   "execution_count": 16,
   "metadata": {},
   "outputs": [
    {
     "name": "stdout",
     "output_type": "stream",
     "text": [
      "Datos: \n",
      "[1, 5, 6, 1, 4, 3, 8, 7, 8, 1]\n",
      "moda: [1]\n"
     ]
    }
   ],
   "source": [
    "#---- Moda -----#\n",
    "print (\"Datos: \")\n",
    "data=[1,5,6,1,4,3,8,7,8,1]\n",
    "\n",
    "print (data)\n",
    "\n",
    "repetir = 0                                                                         \n",
    "for i in data:                                                                              \n",
    "    aparece = data.count(i)                                                             \n",
    "    if aparece > repetir:                                                       \n",
    "        repetir = aparece                                                       \n",
    "                                                                                         \n",
    "moda = []                                                                               \n",
    "for i in data:                                                                              \n",
    "    aparece = data.count(i)                                                             \n",
    "    if aparece == repetir and i not in moda:                                   \n",
    "        moda.append(i)                                                                  \n",
    "                                                                                         \n",
    "print (\"moda:\", moda)"
   ]
  },
  {
   "cell_type": "code",
   "execution_count": 18,
   "metadata": {},
   "outputs": [
    {
     "name": "stdout",
     "output_type": "stream",
     "text": [
      "4.4\n"
     ]
    }
   ],
   "source": [
    "#----- Promedio -----#\n",
    "\n",
    "valores=[1,5,6,1,4,3,8,7,8,1]\n",
    "\n",
    "def promedio(valores):\n",
    "    sumaParcial=0\n",
    "    for valor in valores:\n",
    "        sumaParcial+=valor\n",
    "        cantidadValores = len(valores)\n",
    "        \n",
    "    return sumaParcial/float(cantidadValores)\n",
    "\n",
    "print(promedio(valores))"
   ]
  },
  {
   "cell_type": "code",
   "execution_count": 19,
   "metadata": {},
   "outputs": [
    {
     "name": "stdout",
     "output_type": "stream",
     "text": [
      "7.24\n"
     ]
    }
   ],
   "source": [
    "#----- Varianza -----#\n",
    "def print_g(g):\n",
    "    for grade in g:\n",
    "        print (grade)\n",
    "\n",
    "def suma(g):\n",
    "    total = 0\n",
    "    for grade in g: \n",
    "        total += grade\n",
    "    return total\n",
    "    \n",
    "def g_a(g):\n",
    "    sum = suma(g)\n",
    "    a = float(sum) / len(g)\n",
    "    return a\n",
    "\n",
    "def t_varianza(s, a):\n",
    "    r = 0\n",
    "    for data in s:\n",
    "        r += (a - float(data))**2\n",
    "    varianza = float(r)/len(g)\n",
    "    return varianza\n",
    "\n",
    "g = [1, 5, 6, 1, 4, 3, 8, 7, 8, 1] \n",
    "print (t_varianza(g, g_a(g)))"
   ]
  }
 ],
 "metadata": {
  "kernelspec": {
   "display_name": "Python 3",
   "language": "python",
   "name": "python3"
  }
 },
 "nbformat": 4,
 "nbformat_minor": 2
}
